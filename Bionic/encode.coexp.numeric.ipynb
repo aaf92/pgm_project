{
 "cells": [
  {
   "cell_type": "code",
   "execution_count": 1,
   "id": "4ef0d3be",
   "metadata": {},
   "outputs": [],
   "source": [
    "# imports \n",
    "import numpy as np\n",
    "import pandas as pd\n",
    "from matplotlib import pyplot as plt\n",
    "import seaborn as sns\n",
    "from scipy import stats\n",
    "import os"
   ]
  },
  {
   "cell_type": "markdown",
   "id": "1381b0ba",
   "metadata": {},
   "source": [
    "# encode gene order to edge list"
   ]
  },
  {
   "cell_type": "code",
   "execution_count": 2,
   "id": "132222af",
   "metadata": {},
   "outputs": [],
   "source": [
    "# set wd\n",
    "os.chdir(\"/ix/djishnu/Aaron_F/PGM_project/Bionic\")"
   ]
  },
  {
   "cell_type": "code",
   "execution_count": 3,
   "id": "86345864",
   "metadata": {},
   "outputs": [],
   "source": [
    "# load data\n",
    "data = pd.read_csv(\"/ix/djishnu/Aaron_F/PGM_project/TLR_data/Results/TLR_prot_abs_coexpression_edge_vals_sparse.txt\", header=None, sep=\"\\t\")\n",
    "data_order = pd.read_csv(\"/ix/djishnu/Aaron_F/PGM_project/Bionic/network_genes_union_and_ordering_forBionic.txt\",sep=\"\\t\",header=None)"
   ]
  },
  {
   "cell_type": "code",
   "execution_count": 4,
   "id": "145f554b",
   "metadata": {},
   "outputs": [],
   "source": [
    "# make the dictionaries \n",
    "\n",
    "genes = list(data_order[0])\n",
    "\n",
    "genes2encode = {}\n",
    "\n",
    "for idx,item in enumerate(genes):\n",
    "\tgenes2encode[item] = idx+1\n",
    "\n",
    "ppis = list(zip(data[0],data[1],data[2]))"
   ]
  },
  {
   "cell_type": "code",
   "execution_count": 5,
   "id": "69eb0e95",
   "metadata": {},
   "outputs": [
    {
     "name": "stdout",
     "output_type": "stream",
     "text": [
      "0\n",
      "done!\n"
     ]
    }
   ],
   "source": [
    "# save\n",
    "count = 0\n",
    "handle = open(\"20241114_encoded.coexp.forBIONIC.txt\",'w')\n",
    "\n",
    "for p1, p2, val in ppis:\n",
    "    try:\n",
    "        handle.write(f\"{genes2encode[p1]}\\t{genes2encode[p2]}\\t{val}\\n\")\n",
    "    except KeyError:\n",
    "        count += 1\n",
    "        continue\n",
    "\n",
    "\n",
    "handle.close()\n",
    "\n",
    "print (count)\n",
    "\n",
    "print(\"done!\")"
   ]
  },
  {
   "cell_type": "code",
   "execution_count": null,
   "id": "b03e5e06",
   "metadata": {},
   "outputs": [],
   "source": []
  }
 ],
 "metadata": {
  "interpreter": {
   "hash": "29138f004ed78e8f139d88643268699364cce354bd7f95eb060597427a31b8dc"
  },
  "kernelspec": {
   "display_name": "Python 3 (ipykernel)",
   "language": "python",
   "name": "python3"
  },
  "language_info": {
   "codemirror_mode": {
    "name": "ipython",
    "version": 3
   },
   "file_extension": ".py",
   "mimetype": "text/x-python",
   "name": "python",
   "nbconvert_exporter": "python",
   "pygments_lexer": "ipython3",
   "version": "3.10.14"
  }
 },
 "nbformat": 4,
 "nbformat_minor": 5
}
