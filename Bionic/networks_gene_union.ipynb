{
 "cells": [
  {
   "cell_type": "code",
   "execution_count": 1,
   "id": "4ef0d3be",
   "metadata": {},
   "outputs": [],
   "source": [
    "# imports \n",
    "import numpy as np\n",
    "import pandas as pd\n",
    "from matplotlib import pyplot as plt\n",
    "import seaborn as sns\n",
    "from scipy import stats\n",
    "import os"
   ]
  },
  {
   "cell_type": "markdown",
   "id": "1381b0ba",
   "metadata": {},
   "source": [
    "# Proteomics"
   ]
  },
  {
   "cell_type": "code",
   "execution_count": 2,
   "id": "132222af",
   "metadata": {},
   "outputs": [],
   "source": [
    "# set wd\n",
    "os.chdir(\"/ix/djishnu/Aaron_F/PGM_project/Bionic\")"
   ]
  },
  {
   "cell_type": "code",
   "execution_count": 3,
   "id": "86345864",
   "metadata": {},
   "outputs": [
    {
     "name": "stdout",
     "output_type": "stream",
     "text": [
      "(848253, 3)\n"
     ]
    }
   ],
   "source": [
    "# load data\n",
    "net1_df = pd.read_csv('/ix/djishnu/Aaron_F/PGM_project/TLR_data/Results/TLR_prot_abs_coexpression_edge_vals_sparse.txt', sep=\"\\t\", names=[\"geneA\", \"geneB\", \"edge_val\"])\n",
    "print(net1_df.shape)"
   ]
  },
  {
   "cell_type": "code",
   "execution_count": 9,
   "id": "9f44f77a",
   "metadata": {},
   "outputs": [],
   "source": [
    "net1_genes = list(set(net1_df[\"geneA\"].tolist() + net1_df[\"geneB\"].tolist()))"
   ]
  },
  {
   "cell_type": "code",
   "execution_count": 12,
   "id": "e92652b4",
   "metadata": {},
   "outputs": [],
   "source": [
    "# network 2 data\n",
    "net2_df = pd.read_csv('/ix/djishnu/Aaron_F/PGM_project/PPI/Results/ppi_edgeList.txt', sep=\"\\t\", names=[\"geneA\", \"geneB\"])"
   ]
  },
  {
   "cell_type": "code",
   "execution_count": 14,
   "id": "76c6e288",
   "metadata": {},
   "outputs": [],
   "source": [
    "net2_genes = list(set(net2_df[\"geneA\"].tolist() + net2_df[\"geneB\"].tolist()))"
   ]
  },
  {
   "cell_type": "code",
   "execution_count": 15,
   "id": "69eb0e95",
   "metadata": {},
   "outputs": [],
   "source": [
    "# union of net1 and net2 genes\n",
    "union_net_genes = list(set(net1_genes + net2_genes))\n"
   ]
  },
  {
   "cell_type": "code",
   "execution_count": 17,
   "id": "a5ea5acf",
   "metadata": {},
   "outputs": [],
   "source": [
    "# save union genes\n",
    "with open(\"network_genes_union_and_ordering_forBionic.txt\", \"w\") as f:\n",
    "    for gene in union_net_genes:\n",
    "        f.write(gene + \"\\n\")"
   ]
  }
 ],
 "metadata": {
  "interpreter": {
   "hash": "29138f004ed78e8f139d88643268699364cce354bd7f95eb060597427a31b8dc"
  },
  "kernelspec": {
   "display_name": "Python 3 (ipykernel)",
   "language": "python",
   "name": "python3"
  },
  "language_info": {
   "codemirror_mode": {
    "name": "ipython",
    "version": 3
   },
   "file_extension": ".py",
   "mimetype": "text/x-python",
   "name": "python",
   "nbconvert_exporter": "python",
   "pygments_lexer": "ipython3",
   "version": "3.10.14"
  }
 },
 "nbformat": 4,
 "nbformat_minor": 5
}
