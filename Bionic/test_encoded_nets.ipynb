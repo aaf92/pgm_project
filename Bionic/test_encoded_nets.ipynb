{
 "cells": [
  {
   "cell_type": "code",
   "execution_count": 1,
   "id": "4ef0d3be",
   "metadata": {},
   "outputs": [],
   "source": [
    "# imports \n",
    "import numpy as np\n",
    "import pandas as pd\n",
    "from matplotlib import pyplot as plt\n",
    "import seaborn as sns\n",
    "from scipy import stats\n",
    "import os"
   ]
  },
  {
   "cell_type": "markdown",
   "id": "1381b0ba",
   "metadata": {},
   "source": [
    "# encode gene order to edge list"
   ]
  },
  {
   "cell_type": "code",
   "execution_count": 2,
   "id": "132222af",
   "metadata": {},
   "outputs": [],
   "source": [
    "# set wd\n",
    "os.chdir(\"/ix/djishnu/Aaron_F/PGM_project/Bionic\")"
   ]
  },
  {
   "cell_type": "code",
   "execution_count": 8,
   "id": "86345864",
   "metadata": {},
   "outputs": [],
   "source": [
    "# load data\n",
    "data = pd.read_csv(\"/ix/djishnu/Aaron_F/code/Bionic/encoded.ppis.forBIONIC.txt\", header=None, sep=\" \")\n",
    "data_order = pd.read_csv(\"/ix/djishnu/Aaron_F/PGM_project/Bionic/network_genes_union_and_ordering_forBionic.txt\",sep=\"\\t\",header=None)"
   ]
  },
  {
   "cell_type": "code",
   "execution_count": 9,
   "id": "8f4000f4",
   "metadata": {},
   "outputs": [
    {
     "data": {
      "text/html": [
       "<div>\n",
       "<style scoped>\n",
       "    .dataframe tbody tr th:only-of-type {\n",
       "        vertical-align: middle;\n",
       "    }\n",
       "\n",
       "    .dataframe tbody tr th {\n",
       "        vertical-align: top;\n",
       "    }\n",
       "\n",
       "    .dataframe thead th {\n",
       "        text-align: right;\n",
       "    }\n",
       "</style>\n",
       "<table border=\"1\" class=\"dataframe\">\n",
       "  <thead>\n",
       "    <tr style=\"text-align: right;\">\n",
       "      <th></th>\n",
       "      <th>0</th>\n",
       "      <th>1</th>\n",
       "    </tr>\n",
       "  </thead>\n",
       "  <tbody>\n",
       "    <tr>\n",
       "      <th>0</th>\n",
       "      <td>11943</td>\n",
       "      <td>10779</td>\n",
       "    </tr>\n",
       "    <tr>\n",
       "      <th>1</th>\n",
       "      <td>2570</td>\n",
       "      <td>9772</td>\n",
       "    </tr>\n",
       "    <tr>\n",
       "      <th>2</th>\n",
       "      <td>6752</td>\n",
       "      <td>10563</td>\n",
       "    </tr>\n",
       "    <tr>\n",
       "      <th>3</th>\n",
       "      <td>3183</td>\n",
       "      <td>3183</td>\n",
       "    </tr>\n",
       "    <tr>\n",
       "      <th>4</th>\n",
       "      <td>848</td>\n",
       "      <td>13070</td>\n",
       "    </tr>\n",
       "    <tr>\n",
       "      <th>...</th>\n",
       "      <td>...</td>\n",
       "      <td>...</td>\n",
       "    </tr>\n",
       "    <tr>\n",
       "      <th>176944</th>\n",
       "      <td>2475</td>\n",
       "      <td>10832</td>\n",
       "    </tr>\n",
       "    <tr>\n",
       "      <th>176945</th>\n",
       "      <td>4535</td>\n",
       "      <td>103</td>\n",
       "    </tr>\n",
       "    <tr>\n",
       "      <th>176946</th>\n",
       "      <td>4715</td>\n",
       "      <td>9975</td>\n",
       "    </tr>\n",
       "    <tr>\n",
       "      <th>176947</th>\n",
       "      <td>2150</td>\n",
       "      <td>1418</td>\n",
       "    </tr>\n",
       "    <tr>\n",
       "      <th>176948</th>\n",
       "      <td>9305</td>\n",
       "      <td>1400</td>\n",
       "    </tr>\n",
       "  </tbody>\n",
       "</table>\n",
       "<p>176949 rows × 2 columns</p>\n",
       "</div>"
      ],
      "text/plain": [
       "            0      1\n",
       "0       11943  10779\n",
       "1        2570   9772\n",
       "2        6752  10563\n",
       "3        3183   3183\n",
       "4         848  13070\n",
       "...       ...    ...\n",
       "176944   2475  10832\n",
       "176945   4535    103\n",
       "176946   4715   9975\n",
       "176947   2150   1418\n",
       "176948   9305   1400\n",
       "\n",
       "[176949 rows x 2 columns]"
      ]
     },
     "execution_count": 9,
     "metadata": {},
     "output_type": "execute_result"
    }
   ],
   "source": [
    "data"
   ]
  },
  {
   "cell_type": "code",
   "execution_count": 5,
   "id": "9f1e42de",
   "metadata": {},
   "outputs": [
    {
     "data": {
      "text/html": [
       "<div>\n",
       "<style scoped>\n",
       "    .dataframe tbody tr th:only-of-type {\n",
       "        vertical-align: middle;\n",
       "    }\n",
       "\n",
       "    .dataframe tbody tr th {\n",
       "        vertical-align: top;\n",
       "    }\n",
       "\n",
       "    .dataframe thead th {\n",
       "        text-align: right;\n",
       "    }\n",
       "</style>\n",
       "<table border=\"1\" class=\"dataframe\">\n",
       "  <thead>\n",
       "    <tr style=\"text-align: right;\">\n",
       "      <th></th>\n",
       "      <th>0</th>\n",
       "    </tr>\n",
       "  </thead>\n",
       "  <tbody>\n",
       "    <tr>\n",
       "      <th>0</th>\n",
       "      <td>Rbbp5</td>\n",
       "    </tr>\n",
       "    <tr>\n",
       "      <th>1</th>\n",
       "      <td>Slc26a2</td>\n",
       "    </tr>\n",
       "    <tr>\n",
       "      <th>2</th>\n",
       "      <td>Bmal1</td>\n",
       "    </tr>\n",
       "    <tr>\n",
       "      <th>3</th>\n",
       "      <td>Git1</td>\n",
       "    </tr>\n",
       "    <tr>\n",
       "      <th>4</th>\n",
       "      <td>Rcor1</td>\n",
       "    </tr>\n",
       "    <tr>\n",
       "      <th>...</th>\n",
       "      <td>...</td>\n",
       "    </tr>\n",
       "    <tr>\n",
       "      <th>4319</th>\n",
       "      <td>Ap1g1</td>\n",
       "    </tr>\n",
       "    <tr>\n",
       "      <th>4320</th>\n",
       "      <td>Rps13</td>\n",
       "    </tr>\n",
       "    <tr>\n",
       "      <th>4321</th>\n",
       "      <td>Haus6</td>\n",
       "    </tr>\n",
       "    <tr>\n",
       "      <th>4322</th>\n",
       "      <td>Ppp2r1a</td>\n",
       "    </tr>\n",
       "    <tr>\n",
       "      <th>4323</th>\n",
       "      <td>Eif3b</td>\n",
       "    </tr>\n",
       "  </tbody>\n",
       "</table>\n",
       "<p>4324 rows × 1 columns</p>\n",
       "</div>"
      ],
      "text/plain": [
       "            0\n",
       "0       Rbbp5\n",
       "1     Slc26a2\n",
       "2       Bmal1\n",
       "3        Git1\n",
       "4       Rcor1\n",
       "...       ...\n",
       "4319    Ap1g1\n",
       "4320    Rps13\n",
       "4321    Haus6\n",
       "4322  Ppp2r1a\n",
       "4323    Eif3b\n",
       "\n",
       "[4324 rows x 1 columns]"
      ]
     },
     "execution_count": 5,
     "metadata": {},
     "output_type": "execute_result"
    }
   ],
   "source": [
    "data_order"
   ]
  },
  {
   "cell_type": "code",
   "execution_count": 6,
   "id": "145f554b",
   "metadata": {},
   "outputs": [],
   "source": [
    "# make the dictionaries \n",
    "\n",
    "genes = list(data_order[0])\n",
    "\n",
    "genes2encode = {}\n",
    "\n",
    "for idx,item in enumerate(genes):\n",
    "\tgenes2encode[item] = idx+1\n",
    "\n",
    "ppis = list(zip(data[0],data[1]))"
   ]
  },
  {
   "cell_type": "code",
   "execution_count": 7,
   "id": "69eb0e95",
   "metadata": {},
   "outputs": [
    {
     "name": "stdout",
     "output_type": "stream",
     "text": [
      "0\n",
      "done!\n"
     ]
    }
   ],
   "source": [
    "# save\n",
    "count = 0\n",
    "handle = open(\"20241114_encoded.ppis.forBIONIC.txt\",'w')\n",
    "\n",
    "for p1,p2 in ppis:\n",
    "\n",
    "\ttry:\n",
    "\t\thandle.write(str(genes2encode[p1])+\"\\t\"+str(genes2encode[p2])+\"\\n\")\n",
    "\n",
    "\texcept KeyError:\n",
    "\t\tcount = count +1 \t\t\n",
    "\t\tcontinue \n",
    "\n",
    "\n",
    "handle.close()\n",
    "\n",
    "print (count)\n",
    "\n",
    "print(\"done!\")"
   ]
  },
  {
   "cell_type": "code",
   "execution_count": null,
   "id": "b03e5e06",
   "metadata": {},
   "outputs": [],
   "source": []
  }
 ],
 "metadata": {
  "interpreter": {
   "hash": "29138f004ed78e8f139d88643268699364cce354bd7f95eb060597427a31b8dc"
  },
  "kernelspec": {
   "display_name": "Python 3 (ipykernel)",
   "language": "python",
   "name": "python3"
  },
  "language_info": {
   "codemirror_mode": {
    "name": "ipython",
    "version": 3
   },
   "file_extension": ".py",
   "mimetype": "text/x-python",
   "name": "python",
   "nbconvert_exporter": "python",
   "pygments_lexer": "ipython3",
   "version": "3.10.14"
  }
 },
 "nbformat": 4,
 "nbformat_minor": 5
}
