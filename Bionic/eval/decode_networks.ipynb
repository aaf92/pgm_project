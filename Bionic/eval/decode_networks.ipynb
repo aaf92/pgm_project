{
 "cells": [
  {
   "cell_type": "markdown",
   "metadata": {},
   "source": [
    "# convert encoded gene indexes back to gene names\n"
   ]
  },
  {
   "cell_type": "code",
   "execution_count": 1,
   "metadata": {},
   "outputs": [],
   "source": [
    "import numpy as np\n",
    "import pandas as pd\n",
    "import os"
   ]
  },
  {
   "cell_type": "markdown",
   "metadata": {},
   "source": [
    "Import network and gene coding file"
   ]
  },
  {
   "cell_type": "code",
   "execution_count": 2,
   "metadata": {},
   "outputs": [],
   "source": [
    "# setwd for output\n",
    "os.chdir(\"/ix/djishnu/Aaron_F/PGM_project/Bionic/eval\")"
   ]
  },
  {
   "cell_type": "code",
   "execution_count": 14,
   "metadata": {},
   "outputs": [
    {
     "data": {
      "text/plain": [
       "array(['Capzb', 'Dennd4c', 'Clip2', ..., 'Idh1', 'Anks1b', 'Sox17'],\n",
       "      dtype='<U19')"
      ]
     },
     "execution_count": 14,
     "metadata": {},
     "output_type": "execute_result"
    }
   ],
   "source": [
    "# import network\n",
    "network = pd.read_csv(\"/ix/djishnu/Aaron_F/PGM_project/Bionic/20241114_encoded.ppis.forBIONIC.txt\", delimiter=\"\\t\", header=None)\n",
    "\n",
    "# import encoding gene list\n",
    "gene_coding = np.loadtxt(\"/ix/djishnu/Aaron_F/PGM_project/Bionic/network_genes_union_and_ordering_forBionic.txt\", dtype=str)\n",
    "gene_coding"
   ]
  },
  {
   "cell_type": "code",
   "execution_count": 19,
   "metadata": {},
   "outputs": [],
   "source": [
    "# function to convert value to gene name\n",
    "def index_to_gene(val, gene_list):\n",
    "    return gene_list[int(val)-1]\n",
    "\n"
   ]
  },
  {
   "cell_type": "code",
   "execution_count": 20,
   "metadata": {},
   "outputs": [],
   "source": [
    "network[0] = network[0].apply(index_to_gene, args=(gene_coding,))\n",
    "network[1] = network[1].apply(index_to_gene, args=(gene_coding,))"
   ]
  },
  {
   "cell_type": "code",
   "execution_count": 13,
   "metadata": {},
   "outputs": [],
   "source": [
    "# save decoded network\n",
    "network.to_csv(\"20241114_decoded.ppis.forBIONIC.txt.csv\", header=None, index=False)"
   ]
  },
  {
   "cell_type": "code",
   "execution_count": null,
   "metadata": {},
   "outputs": [],
   "source": []
  }
 ],
 "metadata": {
  "interpreter": {
   "hash": "7f1142d212e6e8cceef5b4a22ed61237952f6fb2a7c6aecb63226793aae517a2"
  },
  "kernelspec": {
   "display_name": "Python 3.8.12 ('bionic-evals': conda)",
   "language": "python",
   "name": "python3"
  },
  "language_info": {
   "codemirror_mode": {
    "name": "ipython",
    "version": 3
   },
   "file_extension": ".py",
   "mimetype": "text/x-python",
   "name": "python",
   "nbconvert_exporter": "python",
   "pygments_lexer": "ipython3",
   "version": "3.8.18"
  },
  "orig_nbformat": 4
 },
 "nbformat": 4,
 "nbformat_minor": 2
}
