{
 "cells": [
  {
   "cell_type": "markdown",
   "metadata": {},
   "source": [
    "# Get control modules of TLR4 pathway\n",
    "\n",
    "First neighbor neighborhood of a control pathway network defines a module. Test each network for module enrichment."
   ]
  },
  {
   "cell_type": "code",
   "execution_count": 1,
   "metadata": {},
   "outputs": [],
   "source": [
    "import json\n",
    "import networkx as nx\n",
    "import numpy as np\n",
    "import pandas as pd\n",
    "from pathlib import Path\n",
    "from sklearn.metrics.pairwise import cosine_similarity\n",
    "import matplotlib.pyplot as plt\n",
    "import seaborn as sns"
   ]
  },
  {
   "cell_type": "markdown",
   "metadata": {},
   "source": [
    "Import networks, BIONIC features, and control pathway network"
   ]
  },
  {
   "cell_type": "markdown",
   "metadata": {},
   "source": [
    "Get the cluster from each network/features that matches the LSM2-7 complex."
   ]
  },
  {
   "cell_type": "code",
   "execution_count": 2,
   "metadata": {},
   "outputs": [],
   "source": [
    "# load TLR4 pathway network\n",
    "pathway = pd.read_csv(\"/ix/djishnu/Aaron_F/PGM_project/TLR_pathway/Results/tlr_signaling_parsed_network_kegg_mmu04620.csv\")"
   ]
  },
  {
   "cell_type": "code",
   "execution_count": 3,
   "metadata": {},
   "outputs": [],
   "source": [
    "# pathway network\n",
    "pathway_net = nx.from_pandas_edgelist(pathway, source=\"source\", target=\"target\")"
   ]
  },
  {
   "cell_type": "code",
   "execution_count": 4,
   "metadata": {},
   "outputs": [],
   "source": [
    "# define module of interstest (moi) from pathway_net using first neighborhod of gene of interest (goi)\n",
    "goi = \"Mapk1\"\n",
    "moi = list(pathway_net.neighbors(goi))\n",
    "moi+=[goi]"
   ]
  },
  {
   "cell_type": "markdown",
   "metadata": {},
   "source": [
    "Transform the BIONIC features into a network."
   ]
  },
  {
   "cell_type": "code",
   "execution_count": 5,
   "metadata": {},
   "outputs": [
    {
     "name": "stdout",
     "output_type": "stream",
     "text": [
      "{'Myd88': ['Fadd', 'Tlr4', 'Tlr5', 'Irak1', 'Tlr9', 'Tlr7', 'Myd88'], 'Traf6': ['Map3k7', 'Irf5', 'Irf7', 'Irak4', 'Ripk1', 'Traf6'], 'Nfkb1': ['Nfkbia', 'Map3k8', 'Tnf', 'Il1b', 'Il6', 'Il12a', 'Ccl5', 'Ccl3', 'Ccl4', 'Akt1', 'Nfkb1'], 'Mapk1': ['Map2k1', 'Fos', 'Mapk1'], 'Irak4': ['Traf6', 'Irak1', 'Irak4'], 'Irak1': ['Myd88', 'Irak4', 'Irf7', 'Irak1'], 'Stat1': ['Cxcl9', 'Stat1']}\n"
     ]
    }
   ],
   "source": [
    "genes_of_interest = [\"Myd88\", \"Traf6\", \"Nfkb1\", \"Mapk1\", \"Irak4\", \"Irak1\", \"Stat1\"]\n",
    "moi_dict = {}\n",
    "for goi in genes_of_interest:\n",
    "    moi = list(pathway_net.neighbors(goi))\n",
    "    moi+=[goi]\n",
    "    moi_dict[goi] = moi\n",
    "print(moi_dict)"
   ]
  },
  {
   "cell_type": "code",
   "execution_count": 6,
   "metadata": {},
   "outputs": [],
   "source": [
    "import os"
   ]
  },
  {
   "cell_type": "code",
   "execution_count": 7,
   "metadata": {},
   "outputs": [
    {
     "data": {
      "text/plain": [
       "'/ix/djishnu/Aaron_F/PGM_project/loopy_bp'"
      ]
     },
     "execution_count": 7,
     "metadata": {},
     "output_type": "execute_result"
    }
   ],
   "source": [
    "os.getcwd()"
   ]
  },
  {
   "cell_type": "code",
   "execution_count": 14,
   "metadata": {},
   "outputs": [],
   "source": [
    "import pickle\n",
    "\n",
    "# Save the dictionary to a pickle file\n",
    "with open(\"moi_dict.pkl\", \"wb\") as file:\n",
    "    pickle.dump(moi_dict, file)"
   ]
  }
 ],
 "metadata": {
  "interpreter": {
   "hash": "7f1142d212e6e8cceef5b4a22ed61237952f6fb2a7c6aecb63226793aae517a2"
  },
  "kernelspec": {
   "display_name": "Python 3.8.12 ('bionic-evals': conda)",
   "language": "python",
   "name": "python3"
  },
  "language_info": {
   "codemirror_mode": {
    "name": "ipython",
    "version": 3
   },
   "file_extension": ".py",
   "mimetype": "text/x-python",
   "name": "python",
   "nbconvert_exporter": "python",
   "pygments_lexer": "ipython3",
   "version": "3.8.18"
  },
  "orig_nbformat": 4
 },
 "nbformat": 4,
 "nbformat_minor": 2
}
