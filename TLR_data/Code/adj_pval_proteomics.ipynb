{
 "cells": [
  {
   "cell_type": "code",
   "execution_count": 1,
   "id": "4ef0d3be",
   "metadata": {},
   "outputs": [],
   "source": [
    "# imports \n",
    "import numpy as np\n",
    "import pandas as pd\n",
    "from matplotlib import pyplot as plt\n",
    "import seaborn as sns\n",
    "from scipy import stats\n",
    "import os"
   ]
  },
  {
   "cell_type": "markdown",
   "id": "1381b0ba",
   "metadata": {},
   "source": [
    "# Proteomics"
   ]
  },
  {
   "cell_type": "code",
   "execution_count": 2,
   "id": "132222af",
   "metadata": {},
   "outputs": [],
   "source": [
    "# set wd\n",
    "os.chdir(\"/ix/djishnu/Aaron_F/PGM_project/TLR_data\")"
   ]
  },
  {
   "cell_type": "code",
   "execution_count": 7,
   "id": "86345864",
   "metadata": {},
   "outputs": [
    {
     "name": "stdout",
     "output_type": "stream",
     "text": [
      "(17064, 137)\n"
     ]
    }
   ],
   "source": [
    "# load data\n",
    "prot_df = pd.read_excel('/ix/djishnu/Aaron_F/PGM_project/TLR_data/KLA_results_phosphosit-experiment_mod_F _FDR0p05_2019-02-08_AF_edit.xlsx')\n",
    "print(prot_df.shape)"
   ]
  },
  {
   "cell_type": "code",
   "execution_count": 9,
   "id": "062f3721",
   "metadata": {},
   "outputs": [
    {
     "data": {
      "text/html": [
       "<div>\n",
       "<style scoped>\n",
       "    .dataframe tbody tr th:only-of-type {\n",
       "        vertical-align: middle;\n",
       "    }\n",
       "\n",
       "    .dataframe tbody tr th {\n",
       "        vertical-align: top;\n",
       "    }\n",
       "\n",
       "    .dataframe thead th {\n",
       "        text-align: right;\n",
       "    }\n",
       "</style>\n",
       "<table border=\"1\" class=\"dataframe\">\n",
       "  <thead>\n",
       "    <tr style=\"text-align: right;\">\n",
       "      <th></th>\n",
       "      <th>Column</th>\n",
       "      <th>Experiment</th>\n",
       "      <th>Sample</th>\n",
       "    </tr>\n",
       "  </thead>\n",
       "  <tbody>\n",
       "    <tr>\n",
       "      <th>0</th>\n",
       "      <td>log2_TMT_126C_126C.127C.127N.128C.128N.129C.12...</td>\n",
       "      <td>0min</td>\n",
       "      <td>m1_KLA_WT_0m</td>\n",
       "    </tr>\n",
       "    <tr>\n",
       "      <th>1</th>\n",
       "      <td>log2_TMT_130C_126C.127C.127N.128C.128N.129C.12...</td>\n",
       "      <td>0min</td>\n",
       "      <td>m2_KLA_WT_0m</td>\n",
       "    </tr>\n",
       "    <tr>\n",
       "      <th>2</th>\n",
       "      <td>log2_TMT_129N_126C.127C.127N.128C.128N.129C.12...</td>\n",
       "      <td>15minKLA</td>\n",
       "      <td>m1_KLA_WT_15m</td>\n",
       "    </tr>\n",
       "    <tr>\n",
       "      <th>3</th>\n",
       "      <td>log2_TMT_130N_126C.127C.127N.128C.128N.129C.12...</td>\n",
       "      <td>15minKLA</td>\n",
       "      <td>m2_KLA_WT_15m</td>\n",
       "    </tr>\n",
       "    <tr>\n",
       "      <th>4</th>\n",
       "      <td>log2_TMT_131C_126C.127C.127N.128C.128N.129C.12...</td>\n",
       "      <td>15minKLA</td>\n",
       "      <td>m3_KLA_WT_15m</td>\n",
       "    </tr>\n",
       "    <tr>\n",
       "      <th>5</th>\n",
       "      <td>log2_TMT_128C_126C.127C.127N.128C.128N.129C.12...</td>\n",
       "      <td>15minKLAp38inh</td>\n",
       "      <td>m1_KLA_p38inh_15m</td>\n",
       "    </tr>\n",
       "    <tr>\n",
       "      <th>6</th>\n",
       "      <td>log2_TMT_129C_126C.127C.127N.128C.128N.129C.12...</td>\n",
       "      <td>15minKLAp38inh</td>\n",
       "      <td>m2_KLA_p38inh_15m</td>\n",
       "    </tr>\n",
       "    <tr>\n",
       "      <th>7</th>\n",
       "      <td>log2_TMT_127C_126C.127C.127N.128C.128N.129C.12...</td>\n",
       "      <td>45minKLA</td>\n",
       "      <td>m1_KLA_WT_45m</td>\n",
       "    </tr>\n",
       "    <tr>\n",
       "      <th>8</th>\n",
       "      <td>log2_TMT_131N_126C.127C.127N.128C.128N.129C.12...</td>\n",
       "      <td>45minKLA</td>\n",
       "      <td>m2_KLA_WT_45m</td>\n",
       "    </tr>\n",
       "    <tr>\n",
       "      <th>9</th>\n",
       "      <td>log2_TMT_127N_126C.127C.127N.128C.128N.129C.12...</td>\n",
       "      <td>45minKLAp38inh</td>\n",
       "      <td>m1_KLA_p38inh_45m</td>\n",
       "    </tr>\n",
       "    <tr>\n",
       "      <th>10</th>\n",
       "      <td>log2_TMT_128N_126C.127C.127N.128C.128N.129C.12...</td>\n",
       "      <td>45minKLAp38inh</td>\n",
       "      <td>m2_KLA_p38inh_45m</td>\n",
       "    </tr>\n",
       "  </tbody>\n",
       "</table>\n",
       "</div>"
      ],
      "text/plain": [
       "                                               Column      Experiment  \\\n",
       "0   log2_TMT_126C_126C.127C.127N.128C.128N.129C.12...            0min   \n",
       "1   log2_TMT_130C_126C.127C.127N.128C.128N.129C.12...            0min   \n",
       "2   log2_TMT_129N_126C.127C.127N.128C.128N.129C.12...        15minKLA   \n",
       "3   log2_TMT_130N_126C.127C.127N.128C.128N.129C.12...        15minKLA   \n",
       "4   log2_TMT_131C_126C.127C.127N.128C.128N.129C.12...        15minKLA   \n",
       "5   log2_TMT_128C_126C.127C.127N.128C.128N.129C.12...  15minKLAp38inh   \n",
       "6   log2_TMT_129C_126C.127C.127N.128C.128N.129C.12...  15minKLAp38inh   \n",
       "7   log2_TMT_127C_126C.127C.127N.128C.128N.129C.12...        45minKLA   \n",
       "8   log2_TMT_131N_126C.127C.127N.128C.128N.129C.12...        45minKLA   \n",
       "9   log2_TMT_127N_126C.127C.127N.128C.128N.129C.12...  45minKLAp38inh   \n",
       "10  log2_TMT_128N_126C.127C.127N.128C.128N.129C.12...  45minKLAp38inh   \n",
       "\n",
       "               Sample  \n",
       "0        m1_KLA_WT_0m  \n",
       "1        m2_KLA_WT_0m  \n",
       "2       m1_KLA_WT_15m  \n",
       "3       m2_KLA_WT_15m  \n",
       "4       m3_KLA_WT_15m  \n",
       "5   m1_KLA_p38inh_15m  \n",
       "6   m2_KLA_p38inh_15m  \n",
       "7       m1_KLA_WT_45m  \n",
       "8       m2_KLA_WT_45m  \n",
       "9   m1_KLA_p38inh_45m  \n",
       "10  m2_KLA_p38inh_45m  "
      ]
     },
     "execution_count": 9,
     "metadata": {},
     "output_type": "execute_result"
    }
   ],
   "source": [
    "# column data map:\n",
    "col_df = pd.read_excel('/ix/djishnu/Aaron_F/PGM_project/TLR_data/KLA_results_phosphosit-experiment_mod_F _FDR0p05_2019-02-08_AF_edit.xlsx', sheet_name=1)\n",
    "col_df"
   ]
  },
  {
   "cell_type": "code",
   "execution_count": 11,
   "id": "2302ceed",
   "metadata": {},
   "outputs": [
    {
     "data": {
      "text/plain": [
       "(4929, 137)"
      ]
     },
     "execution_count": 11,
     "metadata": {},
     "output_type": "execute_result"
    }
   ],
   "source": [
    "# subset data by adjusted pvalue cutoff\n",
    "adj_pval = 0.05\n",
    "prot_df = prot_df.loc[prot_df[\"adj.P.Val\"] < adj_pval,]\n",
    "prot_df.shape"
   ]
  },
  {
   "cell_type": "code",
   "execution_count": 14,
   "id": "243d32a6",
   "metadata": {},
   "outputs": [
    {
     "data": {
      "text/plain": [
       "(4929, 12)"
      ]
     },
     "execution_count": 14,
     "metadata": {},
     "output_type": "execute_result"
    }
   ],
   "source": [
    "# subset to columns of interest\n",
    "cols_of_int = [\"id\"] + col_df.Column.tolist()\n",
    "prot_df = prot_df[cols_of_int]\n",
    "prot_df.shape"
   ]
  },
  {
   "cell_type": "code",
   "execution_count": 19,
   "id": "fb92f5a0",
   "metadata": {},
   "outputs": [
    {
     "data": {
      "text/plain": [
       "Index(['id', 'm1_KLA_WT_0m', 'm2_KLA_WT_0m', 'm1_KLA_WT_15m', 'm2_KLA_WT_15m',\n",
       "       'm3_KLA_WT_15m', 'm1_KLA_p38inh_15m', 'm2_KLA_p38inh_15m',\n",
       "       'm1_KLA_WT_45m', 'm2_KLA_WT_45m', 'm1_KLA_p38inh_45m',\n",
       "       'm2_KLA_p38inh_45m'],\n",
       "      dtype='object')"
      ]
     },
     "execution_count": 19,
     "metadata": {},
     "output_type": "execute_result"
    }
   ],
   "source": [
    "# rename cols to sample names:\n",
    "rename_cols = [\"id\"] + col_df.Sample.tolist()\n",
    "prot_df.columns = rename_cols\n",
    "prot_df.columns"
   ]
  },
  {
   "cell_type": "code",
   "execution_count": 20,
   "id": "aad865d2",
   "metadata": {},
   "outputs": [],
   "source": [
    "# save padjusted data\n",
    "prot_df.to_csv(\"./Results/KLA_results_phosphosite_expression_adj.pval_0.05.csv\", header=True, index=False)"
   ]
  },
  {
   "cell_type": "code",
   "execution_count": null,
   "id": "6033071b",
   "metadata": {},
   "outputs": [],
   "source": []
  }
 ],
 "metadata": {
  "interpreter": {
   "hash": "29138f004ed78e8f139d88643268699364cce354bd7f95eb060597427a31b8dc"
  },
  "kernelspec": {
   "display_name": "Python 3 (ipykernel)",
   "language": "python",
   "name": "python3"
  },
  "language_info": {
   "codemirror_mode": {
    "name": "ipython",
    "version": 3
   },
   "file_extension": ".py",
   "mimetype": "text/x-python",
   "name": "python",
   "nbconvert_exporter": "python",
   "pygments_lexer": "ipython3",
   "version": "3.10.14"
  }
 },
 "nbformat": 4,
 "nbformat_minor": 5
}
