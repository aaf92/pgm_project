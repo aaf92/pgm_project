{
 "cells": [
  {
   "cell_type": "code",
   "execution_count": 1,
   "id": "4ef0d3be",
   "metadata": {},
   "outputs": [],
   "source": [
    "# imports \n",
    "import numpy as np\n",
    "import pandas as pd\n",
    "from matplotlib import pyplot as plt\n",
    "import seaborn as sns\n",
    "from scipy import stats\n",
    "import os"
   ]
  },
  {
   "cell_type": "markdown",
   "id": "1381b0ba",
   "metadata": {},
   "source": [
    "# Proteomics"
   ]
  },
  {
   "cell_type": "code",
   "execution_count": 2,
   "id": "132222af",
   "metadata": {},
   "outputs": [],
   "source": [
    "# set wd\n",
    "os.chdir(\"/ix/djishnu/Aaron_F/PGM_project/PPI\")"
   ]
  },
  {
   "cell_type": "code",
   "execution_count": 9,
   "id": "86345864",
   "metadata": {},
   "outputs": [],
   "source": [
    "# load data\n",
    "ppi_df = pd.read_csv(\"/ix/djishnu/Aaron_F/PGM_project/PPI/MusMusculus_lcb_hq.txt\", sep=\"\\t\")\n",
    "ppi_df = ppi_df[[\"Gene_A\", \"Gene_B\"]]\n",
    "ppi_df = ppi_df.dropna()"
   ]
  },
  {
   "cell_type": "code",
   "execution_count": 11,
   "id": "69eb0e95",
   "metadata": {},
   "outputs": [],
   "source": [
    "ppi_df.to_csv(\"ppi_edgeList.txt\", header=False, index=False, sep=\"\\t\")"
   ]
  },
  {
   "cell_type": "code",
   "execution_count": 13,
   "id": "64ce0f49",
   "metadata": {},
   "outputs": [],
   "source": [
    "test_df = pd.read_csv(\"/ix/djishnu/Aaron_F/PGM_project/PPI/Results/ppi_edgeList.txt\", header=None, sep=\"\\t\")"
   ]
  },
  {
   "cell_type": "code",
   "execution_count": 15,
   "id": "d45ea964",
   "metadata": {},
   "outputs": [
    {
     "data": {
      "text/html": [
       "<div>\n",
       "<style scoped>\n",
       "    .dataframe tbody tr th:only-of-type {\n",
       "        vertical-align: middle;\n",
       "    }\n",
       "\n",
       "    .dataframe tbody tr th {\n",
       "        vertical-align: top;\n",
       "    }\n",
       "\n",
       "    .dataframe thead th {\n",
       "        text-align: right;\n",
       "    }\n",
       "</style>\n",
       "<table border=\"1\" class=\"dataframe\">\n",
       "  <thead>\n",
       "    <tr style=\"text-align: right;\">\n",
       "      <th></th>\n",
       "      <th>0</th>\n",
       "      <th>1</th>\n",
       "    </tr>\n",
       "  </thead>\n",
       "  <tbody>\n",
       "    <tr>\n",
       "      <th>0</th>\n",
       "      <td>Auts2</td>\n",
       "      <td>Rnf2</td>\n",
       "    </tr>\n",
       "    <tr>\n",
       "      <th>1</th>\n",
       "      <td>Cfap77</td>\n",
       "      <td>Cfap77</td>\n",
       "    </tr>\n",
       "    <tr>\n",
       "      <th>2</th>\n",
       "      <td>Cfap77</td>\n",
       "      <td>Tuba3a</td>\n",
       "    </tr>\n",
       "    <tr>\n",
       "      <th>3</th>\n",
       "      <td>Cfap77</td>\n",
       "      <td>Tubb4b</td>\n",
       "    </tr>\n",
       "    <tr>\n",
       "      <th>4</th>\n",
       "      <td>Cfap77</td>\n",
       "      <td>Cfap126</td>\n",
       "    </tr>\n",
       "    <tr>\n",
       "      <th>...</th>\n",
       "      <td>...</td>\n",
       "      <td>...</td>\n",
       "    </tr>\n",
       "    <tr>\n",
       "      <th>3945</th>\n",
       "      <td>Gipc2</td>\n",
       "      <td>Gipc2</td>\n",
       "    </tr>\n",
       "    <tr>\n",
       "      <th>3946</th>\n",
       "      <td>Slc23a1</td>\n",
       "      <td>Slc23a1</td>\n",
       "    </tr>\n",
       "    <tr>\n",
       "      <th>3947</th>\n",
       "      <td>Psma7</td>\n",
       "      <td>Psma5</td>\n",
       "    </tr>\n",
       "    <tr>\n",
       "      <th>3948</th>\n",
       "      <td>Psmd10</td>\n",
       "      <td>Psmd10</td>\n",
       "    </tr>\n",
       "    <tr>\n",
       "      <th>3949</th>\n",
       "      <td>Keap1</td>\n",
       "      <td>Keap1</td>\n",
       "    </tr>\n",
       "  </tbody>\n",
       "</table>\n",
       "<p>3950 rows × 2 columns</p>\n",
       "</div>"
      ],
      "text/plain": [
       "            0        1\n",
       "0       Auts2     Rnf2\n",
       "1      Cfap77   Cfap77\n",
       "2      Cfap77   Tuba3a\n",
       "3      Cfap77   Tubb4b\n",
       "4      Cfap77  Cfap126\n",
       "...       ...      ...\n",
       "3945    Gipc2    Gipc2\n",
       "3946  Slc23a1  Slc23a1\n",
       "3947    Psma7    Psma5\n",
       "3948   Psmd10   Psmd10\n",
       "3949    Keap1    Keap1\n",
       "\n",
       "[3950 rows x 2 columns]"
      ]
     },
     "execution_count": 15,
     "metadata": {},
     "output_type": "execute_result"
    }
   ],
   "source": [
    "test_df"
   ]
  },
  {
   "cell_type": "code",
   "execution_count": null,
   "id": "b03e5e06",
   "metadata": {},
   "outputs": [],
   "source": []
  }
 ],
 "metadata": {
  "interpreter": {
   "hash": "29138f004ed78e8f139d88643268699364cce354bd7f95eb060597427a31b8dc"
  },
  "kernelspec": {
   "display_name": "Python 3 (ipykernel)",
   "language": "python",
   "name": "python3"
  },
  "language_info": {
   "codemirror_mode": {
    "name": "ipython",
    "version": 3
   },
   "file_extension": ".py",
   "mimetype": "text/x-python",
   "name": "python",
   "nbconvert_exporter": "python",
   "pygments_lexer": "ipython3",
   "version": "3.10.14"
  }
 },
 "nbformat": 4,
 "nbformat_minor": 5
}
